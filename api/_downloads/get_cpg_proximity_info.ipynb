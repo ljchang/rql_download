{
  "nbformat_minor": 0, 
  "nbformat": 4, 
  "cells": [
    {
      "execution_count": null, 
      "cell_type": "code", 
      "source": [
        "%matplotlib inline"
      ], 
      "outputs": [], 
      "metadata": {
        "collapsed": false
      }
    }, 
    {
      "source": [
        "\nGet CPG proximity information\n=============================\n\nCredit: A Grigis\n\nIn this tutorial we will send a request to a PIWS instance that contains\na genomic reference in order to get a CPG proximity information.\n\n"
      ], 
      "cell_type": "markdown", 
      "metadata": {}
    }, 
    {
      "execution_count": null, 
      "cell_type": "code", 
      "source": [
        "# Imports\nfrom __future__ import print_function\nfrom pprint import pprint\nfrom cwbrowser import CWInstanceConnection\nfrom cwbrowser.utils import ask_credential\n\n# Define CubicWeb service url\nurl = \"https://metagen.partenaires.cea.fr/metagen\""
      ], 
      "outputs": [], 
      "metadata": {
        "collapsed": false
      }
    }, 
    {
      "source": [
        "CPG information\n---------------\n\n"
      ], 
      "cell_type": "markdown", 
      "metadata": {}
    }, 
    {
      "execution_count": null, 
      "cell_type": "code", 
      "source": [
        "# Define the RQL request\nrql = (\"Any CP, CN, GN Where C is Cpg, C cg_id 'cg11448807', C position CP, \"\n       \"C cpg_chromosome CR, CR name CN, C cpg_genes G, G hgnc_name GN\")\n\n# Ask for login & password\nlogin, password = ask_credential()\n\n# Define a connection: disable the security certificate check\nconnection = CWInstanceConnection(url, login, password, verify=False)\n\n# Execute the request\nrset = connection.execute(rql)\npprint(rset)\ninfo = {\"cg11448807\": {}}\nfor position, chr_name, gene_name in rset:\n    info[\"cg11448807\"][\"position\"] = position\n    info[\"cg11448807\"][\"chr_name\"] = chr_name\n    info[\"cg11448807\"].setdefault(\"gene_names\", {})[gene_name] = {}\nprint(\"Information about SNP 'cg11448807': \")\npprint(info)"
      ], 
      "outputs": [], 
      "metadata": {
        "collapsed": false
      }
    }, 
    {
      "source": [
        "Add Gene information\n--------------------\n\nIt is possible to perform this step with the previous one, but it is\ndangerous since the gene related information we want to extract are not\nalways specified.\nThat the reson why we retrieve the gene information programmatically.\n\n"
      ], 
      "cell_type": "markdown", 
      "metadata": {}
    }, 
    {
      "execution_count": null, 
      "cell_type": "code", 
      "source": [
        "# Go through each gene\nfor gene_name, gene_info in info[\"cg11448807\"][\"gene_names\"].items():\n\n    # CpgIslands\n    rql = (\"Any I Where X is Gene, X hgnc_name '{0}', X gene_cpg_islands C, \"\n           \"C cpg_island_id I\".format(gene_name))\n    rset = connection.execute(rql)\n    gene_info[\"cpg_islands\"] = [row[0] for row in rset]\n\n    # Cpgs\n    rql = (\"Any I Where X is Gene, X hgnc_name '{0}', X gene_cpgs C, \"\n           \"C cg_id I\".format(gene_name))\n    rset = connection.execute(rql)\n    gene_info[\"cpgs\"] = [row[0] for row in rset]\n\n    # Pathways\n    rql = (\"Any N Where X is Gene, X hgnc_name '{0}', X gene_pathways P, \"\n           \"P name N\".format(gene_name))\n    rset = connection.execute(rql)\n    gene_info[\"pathways\"] = [row[0] for row in rset]\n\nprint(\"Information about SNP 'cg11448807' with gene maps: \")\npprint(info)"
      ], 
      "outputs": [], 
      "metadata": {
        "collapsed": false
      }
    }
  ], 
  "metadata": {
    "kernelspec": {
      "display_name": "Python 2", 
      "name": "python2", 
      "language": "python"
    }, 
    "language_info": {
      "mimetype": "text/x-python", 
      "nbconvert_exporter": "python", 
      "name": "python", 
      "file_extension": ".py", 
      "version": "2.7.12", 
      "pygments_lexer": "ipython2", 
      "codemirror_mode": {
        "version": 2, 
        "name": "ipython"
      }
    }
  }
}