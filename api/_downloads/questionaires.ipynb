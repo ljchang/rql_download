{
  "nbformat_minor": 0, 
  "nbformat": 4, 
  "cells": [
    {
      "execution_count": null, 
      "cell_type": "code", 
      "source": [
        "%matplotlib inline"
      ], 
      "outputs": [], 
      "metadata": {
        "collapsed": false
      }
    }, 
    {
      "source": [
        "\nGet questionnaires\n==================\n\nCredit: V Frouin & A Grigis\n\nIn this tutorial we will send a request to a PIWS instance to retrieve some\nquestionnaire data.\n\n"
      ], 
      "cell_type": "markdown", 
      "metadata": {}
    }, 
    {
      "execution_count": null, 
      "cell_type": "code", 
      "source": [
        "# Imports\nfrom __future__ import print_function\nimport os\nfrom pprint import pprint\nfrom cwbrowser import CWInstanceConnection\nfrom cwbrowser.utils import ask_credential\n\n# Define CubicWeb service url\nurl = \"https://imagen2.cea.fr/database\""
      ], 
      "outputs": [], 
      "metadata": {
        "collapsed": false
      }
    }, 
    {
      "source": [
        "List questionnaires\n-------------------\n\nWe first list all the available questionnaires.\n\n"
      ], 
      "cell_type": "markdown", 
      "metadata": {}
    }, 
    {
      "execution_count": null, 
      "cell_type": "code", 
      "source": [
        "# Define the RQL request\nrql = \"DISTINCT Any QN ORDERBY QN Where Q is Questionnaire, Q name QN\"\n\n# Ask for login & password\nlogin, password = ask_credential()\n\n# Define a connection\nconnection = CWInstanceConnection(url, login, password, verify=True,\n                                  server_root=\"/home/{0}\".format(login))\n\n# Execute the request\nrset = connection.execute(rql)\npprint(rset)"
      ], 
      "outputs": [], 
      "metadata": {
        "collapsed": false
      }
    }, 
    {
      "source": [
        "Get the 'PSYTOOLS-adsr-youth' questionnaire\n-------------------------------------------\n\nWe want to get all the available 'PSYTOOLS-adsr-youth' questionnaire data.\nWe ask the system for all the subjects and all the timepoints.\n\n"
      ], 
      "cell_type": "markdown", 
      "metadata": {}
    }, 
    {
      "execution_count": null, 
      "cell_type": "code", 
      "source": [
        "# Define the RQL request\nrql = (\"Any SC, T, FD Where Q is Questionnaire, Q name 'PSYTOOLS-adsr-youth', \"\n       \"Q questionnaire_questionnaire_runs QR, QR in_assessment A, \"\n       \"A timepoint T, QR subject S, S code_in_study SC, QR file F, F data FD\")\n\n# Execute the request\nrset = connection.execute(rql)\npprint(rset[:10])\nprint(\"...\")\n\n# Organize the result set so we can access the answer of a specific\n# subject/timepoint/question.\ndataset = {}\nfor subject, timepoint, questionnaire in rset:\n    if subject not in dataset:\n        dataset[subject] = {}\n    if timepoint in dataset[subject]:\n        raise ValueError(\"The timepoint '{0}' appears multiple time for \"\n                         \"subject '{1}'.\".format(timepoint, subject))\n    dataset[subject][timepoint] = questionnaire\nprint(\"TS1 for subject '000085724167' at timepoint 'FU2': \",\n      dataset[\"000085724167\"][\"FU2\"][\"ts_1\"])"
      ], 
      "outputs": [], 
      "metadata": {
        "collapsed": false
      }
    }
  ], 
  "metadata": {
    "kernelspec": {
      "display_name": "Python 2", 
      "name": "python2", 
      "language": "python"
    }, 
    "language_info": {
      "mimetype": "text/x-python", 
      "nbconvert_exporter": "python", 
      "name": "python", 
      "file_extension": ".py", 
      "version": "2.7.12", 
      "pygments_lexer": "ipython2", 
      "codemirror_mode": {
        "version": 2, 
        "name": "ipython"
      }
    }
  }
}