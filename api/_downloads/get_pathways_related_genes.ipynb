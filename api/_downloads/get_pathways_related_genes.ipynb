{
  "nbformat_minor": 0, 
  "nbformat": 4, 
  "cells": [
    {
      "execution_count": null, 
      "cell_type": "code", 
      "source": [
        "%matplotlib inline"
      ], 
      "outputs": [], 
      "metadata": {
        "collapsed": false
      }
    }, 
    {
      "source": [
        "\nGet Pathways related Genes\n==========================\n\nCredit: A Grigis\n\nIn this tutorial we will send a request to a PIWS instance that contains\na genomic reference in order to get the Pathways related Genes.\n\n"
      ], 
      "cell_type": "markdown", 
      "metadata": {}
    }, 
    {
      "execution_count": null, 
      "cell_type": "code", 
      "source": [
        "# Imports\nfrom __future__ import print_function\nfrom pprint import pprint\nfrom cwbrowser import CWInstanceConnection\nfrom cwbrowser.utils import ask_credential\n\n# Define CubicWeb service url\nurl = \"https://metagen.partenaires.cea.fr/metagen\""
      ], 
      "outputs": [], 
      "metadata": {
        "collapsed": false
      }
    }, 
    {
      "source": [
        "For one pathway\n---------------\n\n"
      ], 
      "cell_type": "markdown", 
      "metadata": {}
    }, 
    {
      "execution_count": null, 
      "cell_type": "code", 
      "source": [
        "# Define the RQL request\nrql = (\"Any I Where X is Pathway, X name 'REACTOME_DNA_REPAIR', \"\n       \"X pathway_genes G, G hgnc_name I\")\n\n# Ask for login & password\nlogin, password = ask_credential()\n\n# Define a connection: disable the security certificate check\nconnection = CWInstanceConnection(url, login, password, verify=False)\n\n# Execute the request\nrset = connection.execute(rql)\npprint(rset[:10])\nprint(\"...\")\nprint(\"Number of Genes associated to 'REACTOME_DNA_REPAIR': \", len(rset))"
      ], 
      "outputs": [], 
      "metadata": {
        "collapsed": false
      }
    }, 
    {
      "source": [
        "For a list of pathways\n----------------------\n\n"
      ], 
      "cell_type": "markdown", 
      "metadata": {}
    }, 
    {
      "execution_count": null, 
      "cell_type": "code", 
      "source": [
        "# Define the RQL request\nrql = (\"Any N, I Where X is Pathway, X name IN ('REACTOME_DNA_REPAIR', \"\n       \"'KEGG_RIBOSOME'), X name N, X pathway_genes G, G hgnc_name I\")\n\n# Execute the request\nrset = connection.execute(rql)\npprint(rset[:10])\nprint(\"...\")\ninfo = {}\nfor name, rsid in rset:\n    info.setdefault(name, []).append(rsid)\nprint(\"Number of SNPs associated to 'REACTOME_DNA_REPAIR': \", len(\n    info[\"REACTOME_DNA_REPAIR\"]))\nprint(\"Number of SNPs associated to 'KEGG_RIBOSOME': \", len(\n    info[\"KEGG_RIBOSOME\"]))"
      ], 
      "outputs": [], 
      "metadata": {
        "collapsed": false
      }
    }
  ], 
  "metadata": {
    "kernelspec": {
      "display_name": "Python 2", 
      "name": "python2", 
      "language": "python"
    }, 
    "language_info": {
      "mimetype": "text/x-python", 
      "nbconvert_exporter": "python", 
      "name": "python", 
      "file_extension": ".py", 
      "version": "2.7.12", 
      "pygments_lexer": "ipython2", 
      "codemirror_mode": {
        "version": 2, 
        "name": "ipython"
      }
    }
  }
}