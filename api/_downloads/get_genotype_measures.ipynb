{
  "nbformat_minor": 0, 
  "nbformat": 4, 
  "cells": [
    {
      "execution_count": null, 
      "cell_type": "code", 
      "source": [
        "%matplotlib inline"
      ], 
      "outputs": [], 
      "metadata": {
        "collapsed": false
      }
    }, 
    {
      "source": [
        "\nGet Genotype Measures\n=====================\n\nCredit: A Grigis\n\nIn this tutorial we will show you how to filter a PLINK dataset containing\ngenotype data. This example is an excerpt of 'piws.metagen.genotype'.\nNote that all the described steps have been implemented within the\nweb services that host your geniomic data. If the service has been\nproperly configured you can use the CWInstanceConnection.get_genotype_measure\nmethod. \n\n"
      ], 
      "cell_type": "markdown", 
      "metadata": {}
    }, 
    {
      "execution_count": null, 
      "cell_type": "code", 
      "source": [
        "# Imports\nfrom __future__ import print_function\nimport os\nimport numpy\nimport zipfile\nfrom pprint import pprint\nfrom cwbrowser import CWInstanceConnection\nfrom cwbrowser.utils import ask_credential\nfrom pysnptools.snpreader import Bed"
      ], 
      "outputs": [], 
      "metadata": {
        "collapsed": false
      }
    }, 
    {
      "source": [
        "Read&Filter PLINK\n-----------------\n\nWe first define a simple function to load and filter a PLINK dataset.\nThis function is from 'piws.metagen.genotype'.\n\n"
      ], 
      "cell_type": "markdown", 
      "metadata": {}
    }, 
    {
      "execution_count": null, 
      "cell_type": "code", 
      "source": [
        "def load_plink_bed_bim_fam_dataset(path_dataset, snp_ids=None,\n                                   subject_ids=None, count_A1=True):\n    \"\"\"\n    Load a Plink bed/bim/fam dataset as a SnpData instance. Optionnally a\n    specific list of snps or subjects can be extracted to avoid loading\n    everything in memory.\n\n    Parameters\n    ----------\n    path_dataset: str\n        Path to the Plink bed/bim/fam dataset, with or without .bed extension.\n    snp_ids: list/set of str, default None\n        Snps that should be extracted if available in the dataset.\n        By default None, all snps are loaded.\n    subject_ids: list of str, default None\n        Subjects that should be extracted if available in the dataset.\n        By default None, all subjects are loaded.\n    count_A1: bool, default True\n        Genotypes are provided as allele counts, A1 if True else A2.\n\n    Return\n    ------\n    snp_data: pysnptools object\n        PLINK data loaded by the 'pysnptools' library.\n    \"\"\"\n\n    # Load the metadata, without loading the genotypes\n    snp_data = Bed(path_dataset, count_A1=count_A1)\n\n    # If requested, filter on snp ids\n    if snp_ids is not None:\n        snp_ids = set(snp_ids)\n        snp_bool_indexes = [(s in snp_ids) for s in snp_data.sid]\n        snp_data = snp_data[:, snp_bool_indexes]\n\n    # If requested, filter on subject ids\n    if subject_ids is not None:\n        subject_ids = set(subject_ids)\n        subject_bool_indexes = [(s in subject_ids) for s in snp_data.iid[:, 1]]\n        snp_data = snp_data[subject_bool_indexes, :]\n\n    # Load the genotypes from the Plink dataset\n    snp_data = snp_data.read()\n\n    return snp_data"
      ], 
      "outputs": [], 
      "metadata": {
        "collapsed": false
      }
    }, 
    {
      "source": [
        "Get some PLINK data\n-------------------\n\nWe want to download the QC Gentic PLINK data available in IMAGEN.\nDefine CubicWeb service url\n\n"
      ], 
      "cell_type": "markdown", 
      "metadata": {}
    }, 
    {
      "execution_count": null, 
      "cell_type": "code", 
      "source": [
        "url = \"https://imagen2.cea.fr/database\"\n\n# Ask for login & password\nprint(url)\nlogin, password = ask_credential()\n\n# Define a connection\nconnection = CWInstanceConnection(url, login, password, verify=True,\n                                  server_root=\"/home/{0}\".format(login))\n\n# Define the RQL request\nrql = \"Any G Where G is GenomicMeasure, G label 'QC_Genetics'\"\n\n# Create a persistent temporary directory\ntmp_dir = os.path.join(os.sep, \"tmp\", \"cwbrowser_data\")\nif not os.path.isdir(tmp_dir):\n    os.mkdir(tmp_dir)\n\n# Execute the request\nrset = connection.execute_with_sync(rql, sync_dir=tmp_dir, nb_tries=5)\npprint(rset)\n\n# Unzip the downloaded file\nzip_file = rset[0][0]\nbasename = os.path.basename(zip_file)\ndirname = os.path.dirname(zip_file)\nfantasy_zip = zipfile.ZipFile(zip_file)\nfantasy_zip.extractall(dirname)\nfantasy_zip.close()\nplink_data = os.path.join(dirname, basename.split(\".\")[0])"
      ], 
      "outputs": [], 
      "metadata": {
        "collapsed": false
      }
    }, 
    {
      "source": [
        "Get SNPs of interest\n--------------------\n\nWe now retrieve some SNPs of interest from a list of genes\n\n"
      ], 
      "cell_type": "markdown", 
      "metadata": {}
    }, 
    {
      "execution_count": null, 
      "cell_type": "code", 
      "source": [
        "# Define the genes of interest\ngene_names = [\"BRCA2\", \"SRY\"]\n\n# Define CubicWeb service url\nurl = \"https://metagen.partenaires.cea.fr/metagen\"\n\n# Ask for login & password\nprint(url)\nlogin, password = ask_credential()\n\n# Define a connection: disable the security certificate check\nconnection = CWInstanceConnection(url, login, password, verify=False)\n\n# Define the RQL request\nrql = (\"Any I Where X is Gene, X hgnc_name IN ({0}), X hgnc_name N, \"\n       \"X gene_snps S, S rs_id I\".format(repr(gene_names)[1: -1]))\n\n# Execute the request\nrset = connection.execute(rql)\npprint(rset[:10])\nprint(\"...\")\nsnp_ids = [row[0] for row in rset]\nprint(\"Number of SNPs associated to 'BRCA2' and 'TOMM22P2': \", len(snp_ids))"
      ], 
      "outputs": [], 
      "metadata": {
        "collapsed": false
      }
    }, 
    {
      "source": [
        "Get the genotype measures of interest\n-------------------------------------\n\nWe now retrieve the genotype measures of interest from a list of SNPs.\n\n"
      ], 
      "cell_type": "markdown", 
      "metadata": {}
    }, 
    {
      "execution_count": null, 
      "cell_type": "code", 
      "source": [
        "snp_data = load_plink_bed_bim_fam_dataset(plink_data, snp_ids=snp_ids,\n                                          subject_ids=None, count_A1=True)\nrs_ids = snp_data.sid.tolist()\nrecords = numpy.concatenate((snp_data.iid, snp_data.val),\n                            axis=1).tolist()\ninfo = {}\nfor row in records:\n    info[row[0]] = {}\n    for key, val in zip(rs_ids, row[2:]):\n        info[row[0]][key] = val\nprint(\"The genotype measures associated to 'BRCA2' and 'TOMM22P2':\")\npprint(info)"
      ], 
      "outputs": [], 
      "metadata": {
        "collapsed": false
      }
    }
  ], 
  "metadata": {
    "kernelspec": {
      "display_name": "Python 2", 
      "name": "python2", 
      "language": "python"
    }, 
    "language_info": {
      "mimetype": "text/x-python", 
      "nbconvert_exporter": "python", 
      "name": "python", 
      "file_extension": ".py", 
      "version": "2.7.12", 
      "pygments_lexer": "ipython2", 
      "codemirror_mode": {
        "version": 2, 
        "name": "ipython"
      }
    }
  }
}