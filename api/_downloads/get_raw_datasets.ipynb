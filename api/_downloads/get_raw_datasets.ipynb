{
  "nbformat_minor": 0, 
  "nbformat": 4, 
  "cells": [
    {
      "execution_count": null, 
      "cell_type": "code", 
      "source": [
        "%matplotlib inline"
      ], 
      "outputs": [], 
      "metadata": {
        "collapsed": false
      }
    }, 
    {
      "source": [
        "\nGet RAW datasets\n================\n\nCredit: A Grigis\n\nIn this tutorial we will send a request to a PIWS instance to retrieve RAW\ndatasets\n\n"
      ], 
      "cell_type": "markdown", 
      "metadata": {}
    }, 
    {
      "execution_count": null, 
      "cell_type": "code", 
      "source": [
        "# Imports\nfrom __future__ import print_function\nimport os\nfrom pprint import pprint\nfrom cwbrowser import CWInstanceConnection\nfrom cwbrowser.utils import ask_credential\n\n# Define CubicWeb service url\nurl = \"https://imagen2.cea.fr/database\""
      ], 
      "outputs": [], 
      "metadata": {
        "collapsed": false
      }
    }, 
    {
      "source": [
        "List RAW types\n--------------\n\nWe first list all the available RAW data types.\n\n"
      ], 
      "cell_type": "markdown", 
      "metadata": {}
    }, 
    {
      "execution_count": null, 
      "cell_type": "code", 
      "source": [
        "# Define the RQL request\nrql = \"DISTINCT Any L ORDERBY L Where S is Scan, S label L\"\n\n# Ask for login & password\nlogin, password = ask_credential()\n\n# Define a connection\nconnection = CWInstanceConnection(url, login, password, verify=True,\n                                  server_root=\"/home/{0}\".format(login))\n\n# Execute the request\nrset = connection.execute(rql)\npprint(rset)"
      ], 
      "outputs": [], 
      "metadata": {
        "collapsed": false
      }
    }, 
    {
      "source": [
        "Get T1 data\n-----------\n\nWe want to list all the available T1 data and associated subjects.\n\n"
      ], 
      "cell_type": "markdown", 
      "metadata": {}
    }, 
    {
      "execution_count": null, 
      "cell_type": "code", 
      "source": [
        "# Define the RQL request\nrql = (\"Any S, C Where S is Scan, S subject SU, SU code_in_study C, S label \"\n       \"'ADNI_MPRAGE'\")\n\n# Execute the request\nrset = connection.execute(rql)\npprint(rset[:10])\nprint(\"...\")"
      ], 
      "outputs": [], 
      "metadata": {
        "collapsed": false
      }
    }, 
    {
      "source": [
        "Download T1 data\n----------------\n\nWe want now to download the available T1 data. For illustration puposes, we\nwill select only the data from one subject.\n\n"
      ], 
      "cell_type": "markdown", 
      "metadata": {}
    }, 
    {
      "execution_count": null, 
      "cell_type": "code", 
      "source": [
        "# Select the subject\nsubject = rset[0][1]\n\n# Define the RQL request\nrql = (\"Any S Where S is Scan, S subject SU, SU code_in_study '{0}', \"\n       \"S label 'ADNI_MPRAGE'\".format(subject))\n\n# Create a persistent temporary directory\ntmp_dir = os.path.join(os.sep, \"tmp\", \"cwbrowser_data\")\nif not os.path.isdir(tmp_dir):\n    os.mkdir(tmp_dir)\n\n# Execute the request\nrset = connection.execute_with_sync(rql, sync_dir=tmp_dir)\npprint(rset)"
      ], 
      "outputs": [], 
      "metadata": {
        "collapsed": false
      }
    }
  ], 
  "metadata": {
    "kernelspec": {
      "display_name": "Python 2", 
      "name": "python2", 
      "language": "python"
    }, 
    "language_info": {
      "mimetype": "text/x-python", 
      "nbconvert_exporter": "python", 
      "name": "python", 
      "file_extension": ".py", 
      "version": "2.7.12", 
      "pygments_lexer": "ipython2", 
      "codemirror_mode": {
        "version": 2, 
        "name": "ipython"
      }
    }
  }
}