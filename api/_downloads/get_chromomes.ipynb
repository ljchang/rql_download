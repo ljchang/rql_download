{
  "nbformat_minor": 0, 
  "nbformat": 4, 
  "cells": [
    {
      "execution_count": null, 
      "cell_type": "code", 
      "source": [
        "%matplotlib inline"
      ], 
      "outputs": [], 
      "metadata": {
        "collapsed": false
      }
    }, 
    {
      "source": [
        "\nGet chromosomes\n===============\n\nCredit: A Grigis\n\nIn this tutorial we will send a request to a PIWS instance that contains\na genomic reference.\n\n"
      ], 
      "cell_type": "markdown", 
      "metadata": {}
    }, 
    {
      "execution_count": null, 
      "cell_type": "code", 
      "source": [
        "# Imports\nfrom pprint import pprint\nfrom cwbrowser import CWInstanceConnection\nfrom cwbrowser.utils import ask_credential\n\n# Define CubicWeb service url\nurl = \"https://metagen.partenaires.cea.fr/metagen\"\n\n# Define the RQL request\nrql = \"Any N Where X is Chromosome, X name N\"\n\n# Ask for login & password\nlogin, password = ask_credential()\n\n# Define a connection: disable the security certificate check\nconnection = CWInstanceConnection(url, login, password, verify=False)\n\n# Execute the request\nrset = connection.execute(rql)\npprint(rset)"
      ], 
      "outputs": [], 
      "metadata": {
        "collapsed": false
      }
    }
  ], 
  "metadata": {
    "kernelspec": {
      "display_name": "Python 2", 
      "name": "python2", 
      "language": "python"
    }, 
    "language_info": {
      "mimetype": "text/x-python", 
      "nbconvert_exporter": "python", 
      "name": "python", 
      "file_extension": ".py", 
      "version": "2.7.12", 
      "pygments_lexer": "ipython2", 
      "codemirror_mode": {
        "version": 2, 
        "name": "ipython"
      }
    }
  }
}